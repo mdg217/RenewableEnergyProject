{
 "cells": [
  {
   "cell_type": "code",
   "execution_count": 1,
   "id": "c2c2a6a6",
   "metadata": {},
   "outputs": [
    {
     "name": "stdout",
     "output_type": "stream",
     "text": [
      "Collecting casadi\n",
      "  Downloading casadi-3.5.5-cp39-none-win_amd64.whl (47.6 MB)\n",
      "     ---------------------------------------- 47.6/47.6 MB 1.1 MB/s eta 0:00:00\n",
      "Installing collected packages: casadi\n",
      "Successfully installed casadi-3.5.5\n",
      "Collecting do_mpc\n",
      "  Downloading do_mpc-4.5.1-py3-none-any.whl (118 kB)\n",
      "     ------------------------------------ 118.6/118.6 kB 533.8 kB/s eta 0:00:00\n",
      "Requirement already satisfied: casadi in c:\\users\\marco\\anaconda3\\lib\\site-packages (from do_mpc) (3.5.5)\n",
      "Requirement already satisfied: matplotlib in c:\\users\\marco\\anaconda3\\lib\\site-packages (from do_mpc) (3.5.2)\n",
      "Requirement already satisfied: numpy in c:\\users\\marco\\anaconda3\\lib\\site-packages (from do_mpc) (1.21.5)\n",
      "Requirement already satisfied: kiwisolver>=1.0.1 in c:\\users\\marco\\anaconda3\\lib\\site-packages (from matplotlib->do_mpc) (1.4.2)\n",
      "Requirement already satisfied: python-dateutil>=2.7 in c:\\users\\marco\\anaconda3\\lib\\site-packages (from matplotlib->do_mpc) (2.8.2)\n",
      "Requirement already satisfied: packaging>=20.0 in c:\\users\\marco\\anaconda3\\lib\\site-packages (from matplotlib->do_mpc) (21.3)\n",
      "Requirement already satisfied: fonttools>=4.22.0 in c:\\users\\marco\\anaconda3\\lib\\site-packages (from matplotlib->do_mpc) (4.25.0)\n",
      "Requirement already satisfied: cycler>=0.10 in c:\\users\\marco\\anaconda3\\lib\\site-packages (from matplotlib->do_mpc) (0.11.0)\n",
      "Requirement already satisfied: pillow>=6.2.0 in c:\\users\\marco\\anaconda3\\lib\\site-packages (from matplotlib->do_mpc) (9.2.0)\n",
      "Requirement already satisfied: pyparsing>=2.2.1 in c:\\users\\marco\\anaconda3\\lib\\site-packages (from matplotlib->do_mpc) (3.0.9)\n",
      "Requirement already satisfied: six>=1.5 in c:\\users\\marco\\anaconda3\\lib\\site-packages (from python-dateutil>=2.7->matplotlib->do_mpc) (1.16.0)\n",
      "Installing collected packages: do_mpc\n",
      "Successfully installed do_mpc-4.5.1\n"
     ]
    }
   ],
   "source": [
    "!pip install casadi\n",
    "!pip install do_mpc"
   ]
  },
  {
   "cell_type": "code",
   "execution_count": 2,
   "id": "f12a61c6",
   "metadata": {},
   "outputs": [],
   "source": [
    "import numpy as np\n",
    "from casadi import *\n",
    "import do_mpc"
   ]
  },
  {
   "cell_type": "code",
   "execution_count": 3,
   "id": "6cc4d8f1",
   "metadata": {},
   "outputs": [],
   "source": [
    "model_type = 'continuous' # either 'discrete' or 'continuous'\n",
    "model = do_mpc.model.Model(model_type)\n",
    "\n"
   ]
  },
  {
   "cell_type": "code",
   "execution_count": null,
   "id": "c6931031",
   "metadata": {},
   "outputs": [],
   "source": []
  }
 ],
 "metadata": {
  "kernelspec": {
   "display_name": "Python 3 (ipykernel)",
   "language": "python",
   "name": "python3"
  },
  "language_info": {
   "codemirror_mode": {
    "name": "ipython",
    "version": 3
   },
   "file_extension": ".py",
   "mimetype": "text/x-python",
   "name": "python",
   "nbconvert_exporter": "python",
   "pygments_lexer": "ipython3",
   "version": "3.9.13"
  }
 },
 "nbformat": 4,
 "nbformat_minor": 5
}
