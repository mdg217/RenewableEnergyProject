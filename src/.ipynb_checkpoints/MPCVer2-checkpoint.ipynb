{
 "cells": [
  {
   "cell_type": "code",
   "execution_count": 22,
   "id": "23773de3",
   "metadata": {},
   "outputs": [],
   "source": [
    "import do_mpc\n",
    "import numpy as np\n",
    "from casadi import *"
   ]
  },
  {
   "cell_type": "code",
   "execution_count": 23,
   "id": "889bb768",
   "metadata": {},
   "outputs": [],
   "source": [
    "model_type = 'continuous' # either 'discrete' or 'continuous'\n",
    "model = do_mpc.model.Model(model_type)\n",
    "\n",
    "#Set state, input and parameters\n",
    "V = model.set_variable(var_type='_x', var_name='V', shape=(1,1))\n",
    "I = model.set_variable(var_type='_x', var_name='I', shape=(1,1))\n",
    "G_in = model.set_variable(var_type='_u', var_name='G', shape=(1,1))\n",
    "T_in = model.set_variable(var_type='_u', var_name='T', shape=(1,1))\n",
    "\n",
    "G = 2000\n",
    "T = 55"
   ]
  },
  {
   "cell_type": "code",
   "execution_count": 24,
   "id": "601a2d15",
   "metadata": {},
   "outputs": [],
   "source": [
    "# Definizione dei parametri del modello\n",
    "Isc = 8.21  # Corrente di cortocircuito [A]\n",
    "Gref = 1000  # Irradianza solare di riferimento [W/m^2]\n",
    "alpha = 0.0005  # Coefficiente di temperatura della corrente di cortocircuito [1/°C]\n",
    "Tref = 298.15  # Temperatura di riferimento [K]\n",
    "I0 = 1.6e-9  # Corrente di saturazione inversa del diodo [A]\n",
    "q = 1.60217662e-19  # Carica dell'elettrone [C]\n",
    "k = 1.380649e-23  # Costante di Boltzmann [J/K]\n",
    "Rs = 0.015  # Resistenza serie [Ohm]\n",
    "Rp = 1000  # Resistenza parallela [Ohm]\n",
    "Voc = 48.5  # Tensione a circuito aperto [V]\n",
    "\n",
    "# Definizione dei parametri del problema di ottimizzazione\n",
    "G = 500  # Irradianza solare [W/m^2]\n",
    "T = 25  # Temperatura del pannello fotovoltaico [K]\n",
    "t_sim = 10  # Tempo di simulazione [s]\n",
    "dt = 0.1  # Intervallo di campionamento [s]"
   ]
  },
  {
   "cell_type": "code",
   "execution_count": 25,
   "id": "c942916a",
   "metadata": {},
   "outputs": [],
   "source": [
    "Iph = Isc * (G_in/Gref) * (1 + alpha * (T_in - Tref))\n",
    "Id = I0 * (np.exp((q*V)/(k*T_in)) - 1)\n",
    "\n",
    "model.set_rhs('V', Voc - Rs*I - Rp*Iph)\n",
    "model.set_rhs('I', Iph - Id)\n",
    "\n",
    "model.setup()"
   ]
  },
  {
   "cell_type": "code",
   "execution_count": 26,
   "id": "254be76f",
   "metadata": {},
   "outputs": [],
   "source": [
    "mpc = do_mpc.controller.MPC(model)\n",
    "\n",
    "setup_mpc = {\n",
    "    'n_horizon': 20,\n",
    "    't_step': 0.1,\n",
    "    'n_robust': 1,\n",
    "    'store_full_solution': True,\n",
    "}\n",
    "mpc.set_param(**setup_mpc)\n",
    "\n",
    "# Define the cost function\n",
    "P = -I*V\n",
    "mterm = -I*V\n",
    "mpc.set_objective(lterm=P, mterm=mterm)\n",
    "\n",
    "# Bounds on state:\n",
    "mpc.bounds['lower','_x', 'I'] = 0\n",
    "mpc.bounds['upper','_x', 'I'] = 21\n",
    "\n",
    "mpc.bounds['lower','_x', 'V'] = 0\n",
    "mpc.bounds['upper','_x', 'V'] = 59.4\n",
    "\n",
    "# Bounds on input:\n",
    "mpc.bounds['lower','_u', 'G'] = 0\n",
    "mpc.bounds['upper','_u', 'G'] = 4500\n",
    "\n",
    "mpc.bounds['lower','_u', 'T'] = 25\n",
    "mpc.bounds['upper','_u', 'T'] = 75\n",
    "\n",
    "mpc.setup()"
   ]
  },
  {
   "cell_type": "code",
   "execution_count": 27,
   "id": "3a4ff3ec",
   "metadata": {},
   "outputs": [],
   "source": [
    "simulator = do_mpc.simulator.Simulator(model)\n",
    "\n",
    "simulator.set_param(t_step = 0.1)\n",
    "simulator.setup()\n",
    "\n",
    "x0 = np.pi*np.array([0, 0]).reshape(-1,1)\n",
    "\n",
    "simulator.x0 = x0\n",
    "mpc.x0 = x0\n",
    "\n",
    "mpc.set_initial_guess()"
   ]
  },
  {
   "cell_type": "code",
   "execution_count": 31,
   "id": "729b693c",
   "metadata": {},
   "outputs": [
    {
     "name": "stderr",
     "output_type": "stream",
     "text": [
      "UsageError: Line magic function `%%capture` not found.\n"
     ]
    },
    {
     "data": {
      "image/png": "[encoded data removed]",
      "text/plain": [
       "<Figure size 1600x900 with 2 Axes>"
      ]
     },
     "metadata": {},
     "output_type": "display_data"
    }
   ],
   "source": [
    "import matplotlib.pyplot as plt\n",
    "import matplotlib as mpl\n",
    "# Customizing Matplotlib:\n",
    "mpl.rcParams['font.size'] = 18\n",
    "mpl.rcParams['lines.linewidth'] = 3\n",
    "mpl.rcParams['axes.grid'] = True\n",
    "mpc_graphics = do_mpc.graphics.Graphics(mpc.data)\n",
    "sim_graphics = do_mpc.graphics.Graphics(simulator.data)\n",
    "\n",
    "# We just want to create the plot and not show it right now. This \"inline magic\" supresses the output.\n",
    "fig, ax = plt.subplots(2, sharex=True, figsize=(16,9))\n",
    "fig.align_ylabels()\n",
    "\n",
    "%%capture\n",
    "# We just want to create the plot and not show it right now. This \"inline magic\" supresses the output.\n",
    "fig, ax = plt.subplots(2, sharex=True, figsize=(16,9))\n",
    "fig.align_ylabels()\n",
    "%%capture\n",
    "for g in [sim_graphics, mpc_graphics]:\n",
    "    # Plot the angle positions (phi_1, phi_2, phi_2) on the first axis:\n",
    "    g.add_line(var_type='_x', var_name='I', axis=ax[0])\n",
    "    g.add_line(var_type='_x', var_name='V', axis=ax[0])\n",
    "\n",
    "    # Plot the set motor positions (phi_m_1_set, phi_m_2_set) on the second axis:\n",
    "    g.add_line(var_type='_u', var_name='G', axis=ax[1])\n",
    "    g.add_line(var_type='_u', var_name='T', axis=ax[1])\n",
    "\n",
    "\n",
    "ax[0].set_ylabel('Current')\n",
    "ax[1].set_ylabel('Voltage')\n",
    "ax[1].set_xlabel('time [s]')\n",
    "\n",
    "u0 = np.zeros((2,1))\n",
    "for i in range(200):\n",
    "    simulator.make_step(u0)\n",
    "    \n",
    "sim_graphics.plot_results()\n",
    "# Reset the limits on all axes in graphic to show the data.\n",
    "sim_graphics.reset_axes()\n",
    "# Show the figure:\n",
    "fig"
   ]
  },
  {
   "cell_type": "code",
   "execution_count": null,
   "id": "256ebe50",
   "metadata": {},
   "outputs": [],
   "source": [
    "u0 = mpc.make_step(x0)\n",
    "sim_graphics.clear()\n",
    "mpc_graphics.plot_predictions()\n",
    "mpc_graphics.reset_axes()\n",
    "# Show the figure:\n",
    "fig"
   ]
  },
  {
   "cell_type": "code",
   "execution_count": null,
   "id": "493d7fda",
   "metadata": {},
   "outputs": [],
   "source": []
  }
 ],
 "metadata": {
  "kernelspec": {
   "display_name": "Python 3 (ipykernel)",
   "language": "python",
   "name": "python3"
  },
  "language_info": {
   "codemirror_mode": {
    "name": "ipython",
    "version": 3
   },
   "file_extension": ".py",
   "mimetype": "text/x-python",
   "name": "python",
   "nbconvert_exporter": "python",
   "pygments_lexer": "ipython3",
   "version": "3.9.13"
  }
 },
 "nbformat": 4,
 "nbformat_minor": 5
}
